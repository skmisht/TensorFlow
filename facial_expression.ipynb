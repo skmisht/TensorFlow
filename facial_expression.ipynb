{
  "nbformat": 4,
  "nbformat_minor": 0,
  "metadata": {
    "colab": {
      "name": "facial_expression.ipynb",
      "provenance": [],
      "toc_visible": true,
      "authorship_tag": "ABX9TyNNt8FWVKg+AXxqtu7bqPk4",
      "include_colab_link": true
    },
    "kernelspec": {
      "name": "python3",
      "display_name": "Python 3"
    }
  },
  "cells": [
    {
      "cell_type": "markdown",
      "metadata": {
        "id": "view-in-github",
        "colab_type": "text"
      },
      "source": [
        "<a href=\"https://colab.research.google.com/github/skmisht/TensorFlow/blob/facial_expression/facial_expression.ipynb\" target=\"_parent\"><img src=\"https://colab.research.google.com/assets/colab-badge.svg\" alt=\"Open In Colab\"/></a>"
      ]
    },
    {
      "cell_type": "markdown",
      "metadata": {
        "id": "Ev6THMUGKpmH"
      },
      "source": [
        "# Facial expression dataset\r\n",
        "Data can be found here: [Kaggle](https://www.kaggle.com/astraszab/facial-expression-dataset-image-folders-fer2013)"
      ]
    },
    {
      "cell_type": "code",
      "metadata": {
        "id": "5ilTzQRgBZSD",
        "outputId": "ab22cf31-f5c8-47e3-ec3a-d5504406486a",
        "colab": {
          "base_uri": "https://localhost:8080/"
        }
      },
      "source": [
        "# required modules\r\n",
        "import os\r\n",
        "import zipfile\r\n",
        "import tensorflow as tf\r\n",
        "from tensorflow.keras.preprocessing.image import ImageDataGenerator\r\n",
        "\r\n",
        "# asscessing data files from drive\r\n",
        "from google.colab import drive\r\n",
        "drive.mount('/content/drive')"
      ],
      "execution_count": 1,
      "outputs": [
        {
          "output_type": "stream",
          "text": [
            "Mounted at /content/drive\n"
          ],
          "name": "stdout"
        }
      ]
    },
    {
      "cell_type": "code",
      "metadata": {
        "id": "A1DK5V4jDf6Q"
      },
      "source": [
        "# unzipping the folder\r\n",
        "local_zip = '/content/drive/My Drive/dl_datasets/facial_expression_data.zip'\r\n",
        "zip_ref = zipfile.ZipFile(local_zip, 'r')\r\n",
        "zip_ref.extractall('/content/drive/My Drive/dl_datasets/facial_expression_data')"
      ],
      "execution_count": 3,
      "outputs": []
    },
    {
      "cell_type": "code",
      "metadata": {
        "id": "CKm8xoq1C0D2",
        "outputId": "4817afee-17bd-4bbf-f0cb-c9c53d5dd6da",
        "colab": {
          "base_uri": "https://localhost:8080/"
        }
      },
      "source": [
        "# files available\r\n",
        "base_dir = '/content/drive/My Drive/dl_datasets/facial_expression_data/data'\r\n",
        "for file in os.listdir(base_dir):\r\n",
        "  if os.path.isdir(os.path.join(base_dir, file)):\r\n",
        "    print(file)\r\n",
        "\r\n",
        "# classes in each dir\r\n",
        "print('Clasess in dir:\\n', os.listdir(os.path.join(base_dir + '/train')))"
      ],
      "execution_count": 10,
      "outputs": [
        {
          "output_type": "stream",
          "text": [
            "test\n",
            "train\n",
            "val\n",
            "Clasess in dir:\n",
            " ['0', '1', '2', '3', '4', '5', '6']\n"
          ],
          "name": "stdout"
        }
      ]
    },
    {
      "cell_type": "code",
      "metadata": {
        "id": "ZOwD_tLOHI55"
      },
      "source": [
        "# "
      ],
      "execution_count": null,
      "outputs": []
    },
    {
      "cell_type": "code",
      "metadata": {
        "id": "6v6BD75dKtDa"
      },
      "source": [
        ""
      ],
      "execution_count": null,
      "outputs": []
    }
  ]
}