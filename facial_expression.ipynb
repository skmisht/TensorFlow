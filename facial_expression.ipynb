{
  "nbformat": 4,
  "nbformat_minor": 0,
  "metadata": {
    "colab": {
      "name": "facial_expression.ipynb",
      "provenance": [],
      "authorship_tag": "ABX9TyNInzEBm1gzcak034Wz17Sm",
      "include_colab_link": true
    },
    "kernelspec": {
      "name": "python3",
      "display_name": "Python 3"
    }
  },
  "cells": [
    {
      "cell_type": "markdown",
      "metadata": {
        "id": "view-in-github",
        "colab_type": "text"
      },
      "source": [
        "<a href=\"https://colab.research.google.com/github/skmisht/TensorFlow/blob/main/facial_expression.ipynb\" target=\"_parent\"><img src=\"https://colab.research.google.com/assets/colab-badge.svg\" alt=\"Open In Colab\"/></a>"
      ]
    },
    {
      "cell_type": "code",
      "metadata": {
        "id": "8YcUn7NYJ_gL"
      },
      "source": [
        "import os\r\n",
        "import zipfile\r\n",
        "import tensorflow as tf\r\n",
        "from tensorflow.keras.preprocessing.image import ImageDataGenerator"
      ],
      "execution_count": 1,
      "outputs": []
    },
    {
      "cell_type": "markdown",
      "metadata": {
        "id": "Ev6THMUGKpmH"
      },
      "source": [
        "# Facial expression dataset\r\n",
        "Data can be found here: [Kaggle](https://www.kaggle.com/astraszab/facial-expression-dataset-image-folders-fer2013)"
      ]
    },
    {
      "cell_type": "code",
      "metadata": {
        "id": "6v6BD75dKtDa"
      },
      "source": [
        ""
      ],
      "execution_count": null,
      "outputs": []
    }
  ]
}